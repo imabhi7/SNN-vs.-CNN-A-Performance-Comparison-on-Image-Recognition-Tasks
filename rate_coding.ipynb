{
  "nbformat": 4,
  "nbformat_minor": 0,
  "metadata": {
    "colab": {
      "provenance": [],
      "gpuType": "T4"
    },
    "kernelspec": {
      "name": "python3",
      "display_name": "Python 3"
    },
    "language_info": {
      "name": "python"
    },
    "accelerator": "GPU"
  },
  "cells": [
    {
      "cell_type": "markdown",
      "source": [
        "## Setting up the custom dataset (Dash)"
      ],
      "metadata": {
        "id": "Nltltesd75cn"
      }
    },
    {
      "cell_type": "code",
      "execution_count": null,
      "metadata": {
        "id": "2_9SNh9ZWJ-k",
        "colab": {
          "base_uri": "https://localhost:8080/"
        },
        "outputId": "dc1cbd8b-4dc5-41a1-b84a-19b5115e7eff"
      },
      "outputs": [
        {
          "output_type": "stream",
          "name": "stdout",
          "text": [
            "Collecting snntorch\n",
            "  Downloading snntorch-0.8.1-py2.py3-none-any.whl (125 kB)\n",
            "\u001b[2K     \u001b[90m━━━━━━━━━━━━━━━━━━━━━━━━━━━━━━━━━━━━━━━━\u001b[0m \u001b[32m125.2/125.2 kB\u001b[0m \u001b[31m2.0 MB/s\u001b[0m eta \u001b[36m0:00:00\u001b[0m\n",
            "\u001b[?25hRequirement already satisfied: torch>=1.1.0 in /usr/local/lib/python3.10/dist-packages (from snntorch) (2.2.1+cu121)\n",
            "Requirement already satisfied: pandas in /usr/local/lib/python3.10/dist-packages (from snntorch) (1.5.3)\n",
            "Requirement already satisfied: matplotlib in /usr/local/lib/python3.10/dist-packages (from snntorch) (3.7.1)\n",
            "Requirement already satisfied: numpy>=1.17 in /usr/local/lib/python3.10/dist-packages (from snntorch) (1.25.2)\n",
            "Collecting nir (from snntorch)\n",
            "  Downloading nir-1.0.1-py3-none-any.whl (76 kB)\n",
            "\u001b[2K     \u001b[90m━━━━━━━━━━━━━━━━━━━━━━━━━━━━━━━━━━━━━━━━\u001b[0m \u001b[32m76.2/76.2 kB\u001b[0m \u001b[31m4.9 MB/s\u001b[0m eta \u001b[36m0:00:00\u001b[0m\n",
            "\u001b[?25hCollecting nirtorch (from snntorch)\n",
            "  Downloading nirtorch-1.0-py3-none-any.whl (13 kB)\n",
            "Requirement already satisfied: filelock in /usr/local/lib/python3.10/dist-packages (from torch>=1.1.0->snntorch) (3.13.1)\n",
            "Requirement already satisfied: typing-extensions>=4.8.0 in /usr/local/lib/python3.10/dist-packages (from torch>=1.1.0->snntorch) (4.10.0)\n",
            "Requirement already satisfied: sympy in /usr/local/lib/python3.10/dist-packages (from torch>=1.1.0->snntorch) (1.12)\n",
            "Requirement already satisfied: networkx in /usr/local/lib/python3.10/dist-packages (from torch>=1.1.0->snntorch) (3.2.1)\n",
            "Requirement already satisfied: jinja2 in /usr/local/lib/python3.10/dist-packages (from torch>=1.1.0->snntorch) (3.1.3)\n",
            "Requirement already satisfied: fsspec in /usr/local/lib/python3.10/dist-packages (from torch>=1.1.0->snntorch) (2023.6.0)\n",
            "Collecting nvidia-cuda-nvrtc-cu12==12.1.105 (from torch>=1.1.0->snntorch)\n",
            "  Downloading nvidia_cuda_nvrtc_cu12-12.1.105-py3-none-manylinux1_x86_64.whl (23.7 MB)\n",
            "\u001b[2K     \u001b[90m━━━━━━━━━━━━━━━━━━━━━━━━━━━━━━━━━━━━━━━━\u001b[0m \u001b[32m23.7/23.7 MB\u001b[0m \u001b[31m30.0 MB/s\u001b[0m eta \u001b[36m0:00:00\u001b[0m\n",
            "\u001b[?25hCollecting nvidia-cuda-runtime-cu12==12.1.105 (from torch>=1.1.0->snntorch)\n",
            "  Downloading nvidia_cuda_runtime_cu12-12.1.105-py3-none-manylinux1_x86_64.whl (823 kB)\n",
            "\u001b[2K     \u001b[90m━━━━━━━━━━━━━━━━━━━━━━━━━━━━━━━━━━━━━━━━\u001b[0m \u001b[32m823.6/823.6 kB\u001b[0m \u001b[31m37.2 MB/s\u001b[0m eta \u001b[36m0:00:00\u001b[0m\n",
            "\u001b[?25hCollecting nvidia-cuda-cupti-cu12==12.1.105 (from torch>=1.1.0->snntorch)\n",
            "  Downloading nvidia_cuda_cupti_cu12-12.1.105-py3-none-manylinux1_x86_64.whl (14.1 MB)\n",
            "\u001b[2K     \u001b[90m━━━━━━━━━━━━━━━━━━━━━━━━━━━━━━━━━━━━━━━━\u001b[0m \u001b[32m14.1/14.1 MB\u001b[0m \u001b[31m40.1 MB/s\u001b[0m eta \u001b[36m0:00:00\u001b[0m\n",
            "\u001b[?25hCollecting nvidia-cudnn-cu12==8.9.2.26 (from torch>=1.1.0->snntorch)\n",
            "  Downloading nvidia_cudnn_cu12-8.9.2.26-py3-none-manylinux1_x86_64.whl (731.7 MB)\n",
            "\u001b[2K     \u001b[90m━━━━━━━━━━━━━━━━━━━━━━━━━━━━━━━━━━━━━━━━\u001b[0m \u001b[32m731.7/731.7 MB\u001b[0m \u001b[31m1.5 MB/s\u001b[0m eta \u001b[36m0:00:00\u001b[0m\n",
            "\u001b[?25hCollecting nvidia-cublas-cu12==12.1.3.1 (from torch>=1.1.0->snntorch)\n",
            "  Downloading nvidia_cublas_cu12-12.1.3.1-py3-none-manylinux1_x86_64.whl (410.6 MB)\n",
            "\u001b[2K     \u001b[90m━━━━━━━━━━━━━━━━━━━━━━━━━━━━━━━━━━━━━━━━\u001b[0m \u001b[32m410.6/410.6 MB\u001b[0m \u001b[31m2.2 MB/s\u001b[0m eta \u001b[36m0:00:00\u001b[0m\n",
            "\u001b[?25hCollecting nvidia-cufft-cu12==11.0.2.54 (from torch>=1.1.0->snntorch)\n",
            "  Downloading nvidia_cufft_cu12-11.0.2.54-py3-none-manylinux1_x86_64.whl (121.6 MB)\n",
            "\u001b[2K     \u001b[90m━━━━━━━━━━━━━━━━━━━━━━━━━━━━━━━━━━━━━━━━\u001b[0m \u001b[32m121.6/121.6 MB\u001b[0m \u001b[31m8.8 MB/s\u001b[0m eta \u001b[36m0:00:00\u001b[0m\n",
            "\u001b[?25hCollecting nvidia-curand-cu12==10.3.2.106 (from torch>=1.1.0->snntorch)\n",
            "  Downloading nvidia_curand_cu12-10.3.2.106-py3-none-manylinux1_x86_64.whl (56.5 MB)\n",
            "\u001b[2K     \u001b[90m━━━━━━━━━━━━━━━━━━━━━━━━━━━━━━━━━━━━━━━━\u001b[0m \u001b[32m56.5/56.5 MB\u001b[0m \u001b[31m9.5 MB/s\u001b[0m eta \u001b[36m0:00:00\u001b[0m\n",
            "\u001b[?25hCollecting nvidia-cusolver-cu12==11.4.5.107 (from torch>=1.1.0->snntorch)\n",
            "  Downloading nvidia_cusolver_cu12-11.4.5.107-py3-none-manylinux1_x86_64.whl (124.2 MB)\n",
            "\u001b[2K     \u001b[90m━━━━━━━━━━━━━━━━━━━━━━━━━━━━━━━━━━━━━━━━\u001b[0m \u001b[32m124.2/124.2 MB\u001b[0m \u001b[31m5.9 MB/s\u001b[0m eta \u001b[36m0:00:00\u001b[0m\n",
            "\u001b[?25hCollecting nvidia-cusparse-cu12==12.1.0.106 (from torch>=1.1.0->snntorch)\n",
            "  Downloading nvidia_cusparse_cu12-12.1.0.106-py3-none-manylinux1_x86_64.whl (196.0 MB)\n",
            "\u001b[2K     \u001b[90m━━━━━━━━━━━━━━━━━━━━━━━━━━━━━━━━━━━━━━━━\u001b[0m \u001b[32m196.0/196.0 MB\u001b[0m \u001b[31m2.4 MB/s\u001b[0m eta \u001b[36m0:00:00\u001b[0m\n",
            "\u001b[?25hCollecting nvidia-nccl-cu12==2.19.3 (from torch>=1.1.0->snntorch)\n",
            "  Downloading nvidia_nccl_cu12-2.19.3-py3-none-manylinux1_x86_64.whl (166.0 MB)\n",
            "\u001b[2K     \u001b[90m━━━━━━━━━━━━━━━━━━━━━━━━━━━━━━━━━━━━━━━━\u001b[0m \u001b[32m166.0/166.0 MB\u001b[0m \u001b[31m2.3 MB/s\u001b[0m eta \u001b[36m0:00:00\u001b[0m\n",
            "\u001b[?25hCollecting nvidia-nvtx-cu12==12.1.105 (from torch>=1.1.0->snntorch)\n",
            "  Downloading nvidia_nvtx_cu12-12.1.105-py3-none-manylinux1_x86_64.whl (99 kB)\n",
            "\u001b[2K     \u001b[90m━━━━━━━━━━━━━━━━━━━━━━━━━━━━━━━━━━━━━━━━\u001b[0m \u001b[32m99.1/99.1 kB\u001b[0m \u001b[31m8.3 MB/s\u001b[0m eta \u001b[36m0:00:00\u001b[0m\n",
            "\u001b[?25hRequirement already satisfied: triton==2.2.0 in /usr/local/lib/python3.10/dist-packages (from torch>=1.1.0->snntorch) (2.2.0)\n",
            "Collecting nvidia-nvjitlink-cu12 (from nvidia-cusolver-cu12==11.4.5.107->torch>=1.1.0->snntorch)\n",
            "  Downloading nvidia_nvjitlink_cu12-12.4.99-py3-none-manylinux2014_x86_64.whl (21.1 MB)\n",
            "\u001b[2K     \u001b[90m━━━━━━━━━━━━━━━━━━━━━━━━━━━━━━━━━━━━━━━━\u001b[0m \u001b[32m21.1/21.1 MB\u001b[0m \u001b[31m48.5 MB/s\u001b[0m eta \u001b[36m0:00:00\u001b[0m\n",
            "\u001b[?25hRequirement already satisfied: contourpy>=1.0.1 in /usr/local/lib/python3.10/dist-packages (from matplotlib->snntorch) (1.2.0)\n",
            "Requirement already satisfied: cycler>=0.10 in /usr/local/lib/python3.10/dist-packages (from matplotlib->snntorch) (0.12.1)\n",
            "Requirement already satisfied: fonttools>=4.22.0 in /usr/local/lib/python3.10/dist-packages (from matplotlib->snntorch) (4.49.0)\n",
            "Requirement already satisfied: kiwisolver>=1.0.1 in /usr/local/lib/python3.10/dist-packages (from matplotlib->snntorch) (1.4.5)\n",
            "Requirement already satisfied: packaging>=20.0 in /usr/local/lib/python3.10/dist-packages (from matplotlib->snntorch) (24.0)\n",
            "Requirement already satisfied: pillow>=6.2.0 in /usr/local/lib/python3.10/dist-packages (from matplotlib->snntorch) (9.4.0)\n",
            "Requirement already satisfied: pyparsing>=2.3.1 in /usr/local/lib/python3.10/dist-packages (from matplotlib->snntorch) (3.1.2)\n",
            "Requirement already satisfied: python-dateutil>=2.7 in /usr/local/lib/python3.10/dist-packages (from matplotlib->snntorch) (2.8.2)\n",
            "Requirement already satisfied: h5py in /usr/local/lib/python3.10/dist-packages (from nir->snntorch) (3.9.0)\n",
            "Requirement already satisfied: pytz>=2020.1 in /usr/local/lib/python3.10/dist-packages (from pandas->snntorch) (2023.4)\n",
            "Requirement already satisfied: six>=1.5 in /usr/local/lib/python3.10/dist-packages (from python-dateutil>=2.7->matplotlib->snntorch) (1.16.0)\n",
            "Requirement already satisfied: MarkupSafe>=2.0 in /usr/local/lib/python3.10/dist-packages (from jinja2->torch>=1.1.0->snntorch) (2.1.5)\n",
            "Requirement already satisfied: mpmath>=0.19 in /usr/local/lib/python3.10/dist-packages (from sympy->torch>=1.1.0->snntorch) (1.3.0)\n",
            "Installing collected packages: nvidia-nvtx-cu12, nvidia-nvjitlink-cu12, nvidia-nccl-cu12, nvidia-curand-cu12, nvidia-cufft-cu12, nvidia-cuda-runtime-cu12, nvidia-cuda-nvrtc-cu12, nvidia-cuda-cupti-cu12, nvidia-cublas-cu12, nvidia-cusparse-cu12, nvidia-cudnn-cu12, nir, nvidia-cusolver-cu12, nirtorch, snntorch\n",
            "Successfully installed nir-1.0.1 nirtorch-1.0 nvidia-cublas-cu12-12.1.3.1 nvidia-cuda-cupti-cu12-12.1.105 nvidia-cuda-nvrtc-cu12-12.1.105 nvidia-cuda-runtime-cu12-12.1.105 nvidia-cudnn-cu12-8.9.2.26 nvidia-cufft-cu12-11.0.2.54 nvidia-curand-cu12-10.3.2.106 nvidia-cusolver-cu12-11.4.5.107 nvidia-cusparse-cu12-12.1.0.106 nvidia-nccl-cu12-2.19.3 nvidia-nvjitlink-cu12-12.4.99 nvidia-nvtx-cu12-12.1.105 snntorch-0.8.1\n"
          ]
        }
      ],
      "source": [
        "# Install SNNTorch package\n",
        "!pip install snntorch\n",
        "\n",
        "# Import necessary libraries\n",
        "import snntorch as snn\n",
        "import torch\n",
        "from torch.utils.data import DataLoader\n",
        "from torchvision import transforms\n",
        "\n",
        "# Training Parameters\n",
        "batch_size = 128  # Batch size for training\n",
        "num_classes = 1   # Number of classes (in this case, 1 for dash)\n",
        "\n",
        "# Define custom dash image creation function\n",
        "def create_dash_image(size):\n",
        "    \"\"\"Creates a tensor representing a horizontal line image.\"\"\"\n",
        "    # Create an empty square tensor (a multi-dimensional array) called image filled with zeros (pixel value)\n",
        "    image = torch.zeros(size, size)\n",
        "    # Draw a horizontal dash in the middle of the image\n",
        "    image[size // 2, :] = 1.0  # Set entire row to 1.0\n",
        "    return image.unsqueeze(0).unsqueeze(0)  # Add batch and channel dimensions (2D to a 4D shape)"
      ]
    },
    {
      "cell_type": "markdown",
      "source": [
        "## Visualization of Rate coding"
      ],
      "metadata": {
        "id": "PzKV-JiT8Kdi"
      }
    },
    {
      "cell_type": "code",
      "source": [
        "# Import necessary libraries\n",
        "import matplotlib.pyplot as plt\n",
        "from snntorch import spikegen, spikeplot as splt\n",
        "from IPython.display import HTML  # Import for Jupyter Notebook\n",
        "import torch  # Assuming you're already using torch\n",
        "\n",
        "# Custom Dash Dataset with target label and comments\n",
        "class CustomDashDataset(torch.utils.data.Dataset):\n",
        "    def __init__(self, size):\n",
        "        \"\"\"Initialize the CustomDashDataset.\"\"\"\n",
        "        self.size = size\n",
        "        self.data = create_dash_image(size)  # Assuming create_dash_image function exists\n",
        "\n",
        "    def __len__(self):\n",
        "        \"\"\"Return the length of the dataset.\"\"\"\n",
        "        return 1  # We only have one image\n",
        "\n",
        "    def __getitem__(self, idx):\n",
        "        \"\"\"Get an item from the dataset.\"\"\"\n",
        "        return self.data.clone()  # Return data\n",
        "\n",
        "# Temporal Dynamics\n",
        "num_steps = 100  # Adjust as needed\n",
        "\n",
        "# Fetch data and target from the custom dataset\n",
        "custom_dataset = CustomDashDataset(size=28)\n",
        "dash_image = custom_dataset[0]  # Get the first image\n",
        "\n",
        "# Rate coding for the dash image\n",
        "rate_coded_dash = spikegen.rate(dash_image.unsqueeze(1), num_steps=num_steps)\n",
        "print(f\"Rate-coded dash shape: {rate_coded_dash.size()}\")\n",
        "\n",
        "# Reshape to combine timestep and channel dimensions (assuming single channel)\n",
        "rate_coded_dash_reshaped = rate_coded_dash.reshape(num_steps, 28, 28)\n",
        "\n",
        "# Visualization\n",
        "fig, ax = plt.subplots()\n",
        "anim = splt.animator(rate_coded_dash_reshaped, fig, ax, num_steps=num_steps)\n",
        "\n",
        "HTML(anim.to_html5_video())  # Use the animation after creation"
      ],
      "metadata": {
        "id": "kmaUp0WSgezE",
        "colab": {
          "base_uri": "https://localhost:8080/",
          "height": 908
        },
        "outputId": "920d6113-7790-4418-9f9c-b9d9b8c0b65d"
      },
      "execution_count": null,
      "outputs": [
        {
          "output_type": "stream",
          "name": "stdout",
          "text": [
            "Rate-coded dash shape: torch.Size([100, 1, 1, 1, 28, 28])\n"
          ]
        },
        {
          "output_type": "execute_result",
          "data": {
            "text/plain": [
              "<IPython.core.display.HTML object>"
            ],
            "text/html": [
              "<video width=\"640\" height=\"480\" controls autoplay loop>\n",
              "  <source type=\"video/mp4\" src=\"data:video/mp4;base64,AAAAIGZ0eXBNNFYgAAACAE00ViBpc29taXNvMmF2YzEAAAAIZnJlZQAADYVtZGF0AAACrgYF//+q\n",
              "3EXpvebZSLeWLNgg2SPu73gyNjQgLSBjb3JlIDE2MyByMzA2MCA1ZGI2YWE2IC0gSC4yNjQvTVBF\n",
              "Ry00IEFWQyBjb2RlYyAtIENvcHlsZWZ0IDIwMDMtMjAyMSAtIGh0dHA6Ly93d3cudmlkZW9sYW4u\n",
              "b3JnL3gyNjQuaHRtbCAtIG9wdGlvbnM6IGNhYmFjPTEgcmVmPTMgZGVibG9jaz0xOjA6MCBhbmFs\n",
              "eXNlPTB4MzoweDExMyBtZT1oZXggc3VibWU9NyBwc3k9MSBwc3lfcmQ9MS4wMDowLjAwIG1peGVk\n",
              "X3JlZj0xIG1lX3JhbmdlPTE2IGNocm9tYV9tZT0xIHRyZWxsaXM9MSA4eDhkY3Q9MSBjcW09MCBk\n",
              "ZWFkem9uZT0yMSwxMSBmYXN0X3Bza2lwPTEgY2hyb21hX3FwX29mZnNldD0tMiB0aHJlYWRzPTMg\n",
              "bG9va2FoZWFkX3RocmVhZHM9MSBzbGljZWRfdGhyZWFkcz0wIG5yPTAgZGVjaW1hdGU9MSBpbnRl\n",
              "cmxhY2VkPTAgYmx1cmF5X2NvbXBhdD0wIGNvbnN0cmFpbmVkX2ludHJhPTAgYmZyYW1lcz0zIGJf\n",
              "cHlyYW1pZD0yIGJfYWRhcHQ9MSBiX2JpYXM9MCBkaXJlY3Q9MSB3ZWlnaHRiPTEgb3Blbl9nb3A9\n",
              "MCB3ZWlnaHRwPTIga2V5aW50PTI1MCBrZXlpbnRfbWluPTI1IHNjZW5lY3V0PTQwIGludHJhX3Jl\n",
              "ZnJlc2g9MCByY19sb29rYWhlYWQ9NDAgcmM9Y3JmIG1idHJlZT0xIGNyZj0yMy4wIHFjb21wPTAu\n",
              "NjAgcXBtaW49MCBxcG1heD02OSBxcHN0ZXA9NCBpcF9yYXRpbz0xLjQwIGFxPTE6MS4wMACAAAAC\n",
              "AmWIhAA7//73Tr8Cm0WXagOSVwr2yqQmWblSawHypgAAAwAAAwAAAwCQhHHua5XJPWaAAAAvYAkd\n",
              "R/ghH3kBNDCYZZFWrjpvUjoWFadFXimJb1UuS8/N/B3+j+Gt1R+BLVPDXd5gh7gTTcAN00v1OG4c\n",
              "6OfI63q6/hsFNXQrxWxBfqbVtRodtrIOAJ8Z9cc70ABG+46bFy2Qo8yTijj6Ax398HobAsTNCw3Y\n",
              "Kz5+43gFXTTqiXq0lSDFYAAaX+AvK0TgtQohhgqg+hbYX1YED1vUZX0BJhjTeGoJERTAWfu1lPDm\n",
              "uW7aAjYxOYBza+vmLXRnA+5jvmP9LkwH5wdP+yDH6g8MN0VDHTpwIHsiAzhweQLnFI/djyo/ussb\n",
              "QHd9FV7bZLrlzJArwXlD9lfjLIDeqnYsTsdMc+AT2GaoOSaV/xpwZSDCprY0zwnsjPRWeGxoDiK3\n",
              "PNvvcrRPQtjjtn+Gc4r6p1GrWjobJ68uXPV6HgOAG52UomK04jFtMd2z0TajjgkrY3NoKDiiCi/o\n",
              "HYBTd8jZyWB+QK9MWNCaowTWvCbDATZwCc/8a8ZwrMRUgHGM19/4qmC/bYtYTPC5ZcvJ+PFt+aab\n",
              "kFfU7tQx5BDjpJ/aBYv2YARORTdoUbN0bs8U8s+gPprWBpv7Wu5OjBy8lKIz0+APc6iUKxXIAAAD\n",
              "A08AAAATQZokbEO//qmWAAADAAADAAAs4AAAABBBnkJ4hf8AAAMAAAMAADUhAAAAEAGeYXRCvwAA\n",
              "AwAAAwAAR8AAAAAQAZ5jakK/AAADAAADAABHwQAAABlBmmhJqEFomUwId//+qZYAAAMAAAMAACzh\n",
              "AAAAEkGehkURLC//AAADAAADAAA1IQAAABABnqV0Qr8AAAMAAAMAAEfBAAAAEAGep2pCvwAAAwAA\n",
              "AwAAR8AAAAAZQZqsSahBbJlMCHf//qmWAAADAAADAAAs4AAAABJBnspFFSwv/wAAAwAAAwAANSEA\n",
              "AAAQAZ7pdEK/AAADAAADAABHwAAAABABnutqQr8AAAMAAAMAAEfAAAAAGUGa8EmoQWyZTAh3//6p\n",
              "lgAAAwAAAwAALOEAAAASQZ8ORRUsL/8AAAMAAAMAADUhAAAAEAGfLXRCvwAAAwAAAwAAR8EAAAAQ\n",
              "AZ8vakK/AAADAAADAABHwAAAABlBmzRJqEFsmUwId//+qZYAAAMAAAMAACzgAAAAEkGfUkUVLC//\n",
              "AAADAAADAAA1IQAAABABn3F0Qr8AAAMAAAMAAEfAAAAAEAGfc2pCvwAAAwAAAwAAR8AAAAAZQZt4\n",
              "SahBbJlMCHf//qmWAAADAAADAAAs4QAAABJBn5ZFFSwv/wAAAwAAAwAANSAAAAAQAZ+1dEK/AAAD\n",
              "AAADAABHwQAAABABn7dqQr8AAAMAAAMAAEfBAAAAGUGbvEmoQWyZTAh3//6plgAAAwAAAwAALOAA\n",
              "AAASQZ/aRRUsL/8AAAMAAAMAADUhAAAAEAGf+XRCvwAAAwAAAwAAR8AAAAAQAZ/7akK/AAADAAAD\n",
              "AABHwQAAABlBm+BJqEFsmUwId//+qZYAAAMAAAMAACzhAAAAEkGeHkUVLC//AAADAAADAAA1IAAA\n",
              "ABABnj10Qr8AAAMAAAMAAEfAAAAAEAGeP2pCvwAAAwAAAwAAR8EAAAAZQZokSahBbJlMCHf//qmW\n",
              "AAADAAADAAAs4AAAABJBnkJFFSwv/wAAAwAAAwAANSEAAAAQAZ5hdEK/AAADAAADAABHwAAAABAB\n",
              "nmNqQr8AAAMAAAMAAEfBAAAAGUGaaEmoQWyZTAh3//6plgAAAwAAAwAALOEAAAASQZ6GRRUsL/8A\n",
              "AAMAAAMAADUhAAAAEAGepXRCvwAAAwAAAwAAR8EAAAAQAZ6nakK/AAADAAADAABHwAAAABlBmqxJ\n",
              "qEFsmUwId//+qZYAAAMAAAMAACzgAAAAEkGeykUVLC//AAADAAADAAA1IQAAABABnul0Qr8AAAMA\n",
              "AAMAAEfAAAAAEAGe62pCvwAAAwAAAwAAR8AAAAAZQZrwSahBbJlMCHf//qmWAAADAAADAAAs4QAA\n",
              "ABJBnw5FFSwv/wAAAwAAAwAANSEAAAAQAZ8tdEK/AAADAAADAABHwQAAABABny9qQr8AAAMAAAMA\n",
              "AEfAAAAAGUGbNEmoQWyZTAh3//6plgAAAwAAAwAALOAAAAASQZ9SRRUsL/8AAAMAAAMAADUhAAAA\n",
              "EAGfcXRCvwAAAwAAAwAAR8AAAAAQAZ9zakK/AAADAAADAABHwAAAABlBm3hJqEFsmUwId//+qZYA\n",
              "AAMAAAMAACzhAAAAEkGflkUVLC//AAADAAADAAA1IAAAABABn7V0Qr8AAAMAAAMAAEfBAAAAEAGf\n",
              "t2pCvwAAAwAAAwAAR8EAAAAZQZu8SahBbJlMCHf//qmWAAADAAADAAAs4AAAABJBn9pFFSwv/wAA\n",
              "AwAAAwAANSEAAAAQAZ/5dEK/AAADAAADAABHwAAAABABn/tqQr8AAAMAAAMAAEfBAAAAGUGb4Emo\n",
              "QWyZTAh3//6plgAAAwAAAwAALOEAAAASQZ4eRRUsL/8AAAMAAAMAADUgAAAAEAGePXRCvwAAAwAA\n",
              "AwAAR8AAAAAQAZ4/akK/AAADAAADAABHwQAAABlBmiRJqEFsmUwId//+qZYAAAMAAAMAACzgAAAA\n",
              "EkGeQkUVLC//AAADAAADAAA1IQAAABABnmF0Qr8AAAMAAAMAAEfAAAAAEAGeY2pCvwAAAwAAAwAA\n",
              "R8EAAAAZQZpoSahBbJlMCHf//qmWAAADAAADAAAs4QAAABJBnoZFFSwv/wAAAwAAAwAANSEAAAAQ\n",
              "AZ6ldEK/AAADAAADAABHwQAAABABnqdqQr8AAAMAAAMAAEfAAAAAGUGarEmoQWyZTAh3//6plgAA\n",
              "AwAAAwAALOAAAAASQZ7KRRUsL/8AAAMAAAMAADUhAAAAEAGe6XRCvwAAAwAAAwAAR8AAAAAQAZ7r\n",
              "akK/AAADAAADAABHwAAAABlBmvBJqEFsmUwId//+qZYAAAMAAAMAACzhAAAAEkGfDkUVLC//AAAD\n",
              "AAADAAA1IQAAABABny10Qr8AAAMAAAMAAEfBAAAAEAGfL2pCvwAAAwAAAwAAR8AAAAAZQZs0SahB\n",
              "bJlMCHf//qmWAAADAAADAAAs4AAAABJBn1JFFSwv/wAAAwAAAwAANSEAAAAQAZ9xdEK/AAADAAAD\n",
              "AABHwAAAABABn3NqQr8AAAMAAAMAAEfAAAAAGUGbeEmoQWyZTAh3//6plgAAAwAAAwAALOEAAAAS\n",
              "QZ+WRRUsL/8AAAMAAAMAADUgAAAAEAGftXRCvwAAAwAAAwAAR8EAAAAQAZ+3akK/AAADAAADAABH\n",
              "wQAAABlBm7xJqEFsmUwIb//+p4QAAAMAAAMAAFlAAAAAEkGf2kUVLC//AAADAAADAAA1IQAAABAB\n",
              "n/l0Qr8AAAMAAAMAAEfAAAAAEAGf+2pCvwAAAwAAAwAAR8EAAAAYQZvgSahBbJlMCGf//p4QAAAD\n",
              "AAADAAFbAAAAEkGeHkUVLC//AAADAAADAAA1IAAAABABnj10Qr8AAAMAAAMAAEfAAAAAEAGeP2pC\n",
              "vwAAAwAAAwAAR8EAAAAYQZojSahBbJlMCFf//jhAAAADAAADAAVMAAAAEkGeQUUVLCv/AAADAAAD\n",
              "AABHwQAAABABnmJqQr8AAAMAAAMAAEfAAAAH2m1vb3YAAABsbXZoZAAAAAAAAAAAAAAAAAAAA+gA\n",
              "AA+gAAEAAAEAAAAAAAAAAAAAAAABAAAAAAAAAAAAAAAAAAAAAQAAAAAAAAAAAAAAAAAAQAAAAAAA\n",
              "AAAAAAAAAAAAAAAAAAAAAAAAAAAAAAAAAAIAAAcEdHJhawAAAFx0a2hkAAAAAwAAAAAAAAAAAAAA\n",
              "AQAAAAAAAA+gAAAAAAAAAAAAAAAAAAAAAAABAAAAAAAAAAAAAAAAAAAAAQAAAAAAAAAAAAAAAAAA\n",
              "QAAAAAKAAAAB4AAAAAAAJGVkdHMAAAAcZWxzdAAAAAAAAAABAAAPoAAABAAAAQAAAAAGfG1kaWEA\n",
              "AAAgbWRoZAAAAAAAAAAAAAAAAAAAMgAAAMgAVcQAAAAAAC1oZGxyAAAAAAAAAAB2aWRlAAAAAAAA\n",
              "AAAAAAAAVmlkZW9IYW5kbGVyAAAABidtaW5mAAAAFHZtaGQAAAABAAAAAAAAAAAAAAAkZGluZgAA\n",
              "ABxkcmVmAAAAAAAAAAEAAAAMdXJsIAAAAAEAAAXnc3RibAAAALdzdHNkAAAAAAAAAAEAAACnYXZj\n",
              "MQAAAAAAAAABAAAAAAAAAAAAAAAAAAAAAAKAAeAASAAAAEgAAAAAAAAAAQAAAAAAAAAAAAAAAAAA\n",
              "AAAAAAAAAAAAAAAAAAAAAAAAABj//wAAADVhdmNDAWQAHv/hABhnZAAerNlAoD2hAAADAAEAAAMA\n",
              "Mg8WLZYBAAZo6+PLIsD9+PgAAAAAHHV1aWRraEDyXyRPxbo5pRvPAyPzAAAAAAAAABhzdHRzAAAA\n",
              "AAAAAAEAAABkAAACAAAAABRzdHNzAAAAAAAAAAEAAAABAAADKGN0dHMAAAAAAAAAYwAAAAEAAAQA\n",
              "AAAAAQAACgAAAAABAAAEAAAAAAEAAAAAAAAAAQAAAgAAAAABAAAKAAAAAAEAAAQAAAAAAQAAAAAA\n",
              "AAABAAACAAAAAAEAAAoAAAAAAQAABAAAAAABAAAAAAAAAAEAAAIAAAAAAQAACgAAAAABAAAEAAAA\n",
              "AAEAAAAAAAAAAQAAAgAAAAABAAAKAAAAAAEAAAQAAAAAAQAAAAAAAAABAAACAAAAAAEAAAoAAAAA\n",
              "AQAABAAAAAABAAAAAAAAAAEAAAIAAAAAAQAACgAAAAABAAAEAAAAAAEAAAAAAAAAAQAAAgAAAAAB\n",
              "AAAKAAAAAAEAAAQAAAAAAQAAAAAAAAABAAACAAAAAAEAAAoAAAAAAQAABAAAAAABAAAAAAAAAAEA\n",
              "AAIAAAAAAQAACgAAAAABAAAEAAAAAAEAAAAAAAAAAQAAAgAAAAABAAAKAAAAAAEAAAQAAAAAAQAA\n",
              "AAAAAAABAAACAAAAAAEAAAoAAAAAAQAABAAAAAABAAAAAAAAAAEAAAIAAAAAAQAACgAAAAABAAAE\n",
              "AAAAAAEAAAAAAAAAAQAAAgAAAAABAAAKAAAAAAEAAAQAAAAAAQAAAAAAAAABAAACAAAAAAEAAAoA\n",
              "AAAAAQAABAAAAAABAAAAAAAAAAEAAAIAAAAAAQAACgAAAAABAAAEAAAAAAEAAAAAAAAAAQAAAgAA\n",
              "AAABAAAKAAAAAAEAAAQAAAAAAQAAAAAAAAABAAACAAAAAAEAAAoAAAAAAQAABAAAAAABAAAAAAAA\n",
              "AAEAAAIAAAAAAQAACgAAAAABAAAEAAAAAAEAAAAAAAAAAQAAAgAAAAABAAAKAAAAAAEAAAQAAAAA\n",
              "AQAAAAAAAAABAAACAAAAAAEAAAoAAAAAAQAABAAAAAABAAAAAAAAAAEAAAIAAAAAAQAACgAAAAAB\n",
              "AAAEAAAAAAEAAAAAAAAAAQAAAgAAAAABAAAKAAAAAAEAAAQAAAAAAQAAAAAAAAABAAACAAAAAAEA\n",
              "AAoAAAAAAQAABAAAAAABAAAAAAAAAAEAAAIAAAAAAQAACAAAAAACAAACAAAAABxzdHNjAAAAAAAA\n",
              "AAEAAAABAAAAZAAAAAEAAAGkc3RzegAAAAAAAAAAAAAAZAAABLgAAAAXAAAAFAAAABQAAAAUAAAA\n",
              "HQAAABYAAAAUAAAAFAAAAB0AAAAWAAAAFAAAABQAAAAdAAAAFgAAABQAAAAUAAAAHQAAABYAAAAU\n",
              "AAAAFAAAAB0AAAAWAAAAFAAAABQAAAAdAAAAFgAAABQAAAAUAAAAHQAAABYAAAAUAAAAFAAAAB0A\n",
              "AAAWAAAAFAAAABQAAAAdAAAAFgAAABQAAAAUAAAAHQAAABYAAAAUAAAAFAAAAB0AAAAWAAAAFAAA\n",
              "ABQAAAAdAAAAFgAAABQAAAAUAAAAHQAAABYAAAAUAAAAFAAAAB0AAAAWAAAAFAAAABQAAAAdAAAA\n",
              "FgAAABQAAAAUAAAAHQAAABYAAAAUAAAAFAAAAB0AAAAWAAAAFAAAABQAAAAdAAAAFgAAABQAAAAU\n",
              "AAAAHQAAABYAAAAUAAAAFAAAAB0AAAAWAAAAFAAAABQAAAAdAAAAFgAAABQAAAAUAAAAHQAAABYA\n",
              "AAAUAAAAFAAAABwAAAAWAAAAFAAAABQAAAAcAAAAFgAAABQAAAAUc3RjbwAAAAAAAAABAAAAMAAA\n",
              "AGJ1ZHRhAAAAWm1ldGEAAAAAAAAAIWhkbHIAAAAAAAAAAG1kaXJhcHBsAAAAAAAAAAAAAAAALWls\n",
              "c3QAAAAlqXRvbwAAAB1kYXRhAAAAAQAAAABMYXZmNTguNzYuMTAw\n",
              "\">\n",
              "  Your browser does not support the video tag.\n",
              "</video>"
            ]
          },
          "metadata": {},
          "execution_count": 18
        },
        {
          "output_type": "display_data",
          "data": {
            "text/plain": [
              "<Figure size 640x480 with 1 Axes>"
            ],
            "image/png": "[encoded data removed]"
          },
          "metadata": {}
        }
      ]
    },
    {
      "cell_type": "markdown",
      "source": [
        "## RASTER PLOTS"
      ],
      "metadata": {
        "id": "whnPxR2j8jE6"
      }
    },
    {
      "cell_type": "code",
      "source": [
        "# Reshape for raster plot and comments\n",
        "reshaped_spikes = rate_coded_dash.reshape((num_steps, -1))\n",
        "# Reshape the rate-coded dash tensor for visualization. The \"-1\" automatically calculates the appropriate size for the second dimension, combining all other dimensions.\n",
        "\n",
        "# Raster plot for the entire input layer and comments\n",
        "fig = plt.figure(facecolor=\"w\", figsize=(10, 6))\n",
        "ax = fig.add_subplot(111)\n",
        "splt.raster(reshaped_spikes, ax, s=1.5, c=\"black\")\n",
        "# Create a raster plot to visualize spike activity over time. Each row represents a neuron, and each column represents a time step.\n",
        "\n",
        "plt.ylim(0, 784)\n",
        "plt.title(\"Input Layer Raster Plot\")\n",
        "plt.xlabel(\"Time step\")\n",
        "plt.ylabel(\"Neuron Number\")\n",
        "plt.show()\n",
        "# Set plot title and axis labels, and display the raster plot."
      ],
      "metadata": {
        "colab": {
          "base_uri": "https://localhost:8080/",
          "height": 564
        },
        "id": "d8yPtpbLVCjz",
        "outputId": "b7e2bb99-59a9-4422-ef77-fc1af709b9c2"
      },
      "execution_count": null,
      "outputs": [
        {
          "output_type": "display_data",
          "data": {
            "text/plain": [
              "<Figure size 1000x600 with 1 Axes>"
            ],
            "image/png": "[encoded data removed]"
          },
          "metadata": {}
        }
      ]
    }
  ]
}